{
  "cells": [
    {
      "cell_type": "markdown",
      "metadata": {
        "id": "jrn3txpGqX0Y"
      },
      "source": [
        "# Using Comet"
      ]
    },
    {
      "cell_type": "markdown",
      "metadata": {
        "id": "5-6Z4G-SqqGX"
      },
      "source": [
        "For tracking and visualize model metrics in real time."
      ]
    },
    {
      "cell_type": "code",
      "execution_count": null,
      "metadata": {
        "colab": {
          "base_uri": "https://localhost:8080/"
        },
        "id": "vkGwsoRnWO-L",
        "outputId": "a48e3e3c-d1f7-4722-ee64-7b34af3970f4"
      },
      "outputs": [
        {
          "name": "stdout",
          "output_type": "stream",
          "text": [
            "\u001b[2K     \u001b[90m━━━━━━━━━━━━━━━━━━━━━━━━━━━━━━━━━━━━━━━━\u001b[0m \u001b[32m586.4/586.4 kB\u001b[0m \u001b[31m12.6 MB/s\u001b[0m eta \u001b[36m0:00:00\u001b[0m\n",
            "\u001b[2K     \u001b[90m━━━━━━━━━━━━━━━━━━━━━━━━━━━━━━━━━━━━━━━━\u001b[0m \u001b[32m3.3/3.3 MB\u001b[0m \u001b[31m90.5 MB/s\u001b[0m eta \u001b[36m0:00:00\u001b[0m\n",
            "\u001b[2K     \u001b[90m━━━━━━━━━━━━━━━━━━━━━━━━━━━━━━━━━━━━━━━━\u001b[0m \u001b[32m54.5/54.5 kB\u001b[0m \u001b[31m7.1 MB/s\u001b[0m eta \u001b[36m0:00:00\u001b[0m\n",
            "\u001b[2K     \u001b[90m━━━━━━━━━━━━━━━━━━━━━━━━━━━━━━━━━━━━━━━━\u001b[0m \u001b[32m248.6/248.6 kB\u001b[0m \u001b[31m32.7 MB/s\u001b[0m eta \u001b[36m0:00:00\u001b[0m\n",
            "\u001b[2K     \u001b[90m━━━━━━━━━━━━━━━━━━━━━━━━━━━━━━━━━━━━━━━━\u001b[0m \u001b[32m137.9/137.9 kB\u001b[0m \u001b[31m18.3 MB/s\u001b[0m eta \u001b[36m0:00:00\u001b[0m\n",
            "\u001b[2K     \u001b[90m━━━━━━━━━━━━━━━━━━━━━━━━━━━━━━━━━━━━━━━━\u001b[0m \u001b[32m54.3/54.3 kB\u001b[0m \u001b[31m7.4 MB/s\u001b[0m eta \u001b[36m0:00:00\u001b[0m\n",
            "\u001b[2K     \u001b[90m━━━━━━━━━━━━━━━━━━━━━━━━━━━━━━━━━━━━━━━━\u001b[0m \u001b[32m512.2/512.2 kB\u001b[0m \u001b[31m51.5 MB/s\u001b[0m eta \u001b[36m0:00:00\u001b[0m\n",
            "\u001b[?25h"
          ]
        }
      ],
      "source": [
        "%pip install comet_ml --quiet"
      ]
    },
    {
      "cell_type": "code",
      "execution_count": null,
      "metadata": {
        "colab": {
          "base_uri": "https://localhost:8080/"
        },
        "id": "S36APuhiWrEs",
        "outputId": "af3a77cb-2e07-4c4c-a269-8b45876e8446"
      },
      "outputs": [
        {
          "name": "stdout",
          "output_type": "stream",
          "text": [
            "Please paste your Comet API key from https://www.comet.com/api/my/settings/\n",
            "(api key may not show as you type)\n",
            "Comet API key: ··········\n"
          ]
        },
        {
          "name": "stderr",
          "output_type": "stream",
          "text": [
            "\u001b[1;38;5;39mCOMET INFO:\u001b[0m Valid Comet API Key saved in /root/.comet.config (set COMET_CONFIG to change where it is saved).\n"
          ]
        }
      ],
      "source": [
        "import comet_ml\n",
        "comet_ml.init(project_name='object-countings')"
      ]
    },
    {
      "cell_type": "markdown",
      "metadata": {
        "id": "vYpRgyiMXkoV"
      },
      "source": [
        "# Setup YOLOv5\n"
      ]
    },
    {
      "cell_type": "code",
      "execution_count": null,
      "metadata": {
        "colab": {
          "base_uri": "https://localhost:8080/"
        },
        "id": "_NBCt6ccXK2T",
        "outputId": "668ebe39-87d4-446c-8c0d-ca6d1d289870"
      },
      "outputs": [
        {
          "name": "stdout",
          "output_type": "stream",
          "text": [
            "Cloning into 'yolov5'...\n",
            "remote: Enumerating objects: 16057, done.\u001b[K\n",
            "remote: Total 16057 (delta 0), reused 0 (delta 0), pack-reused 16057\u001b[K\n",
            "Receiving objects: 100% (16057/16057), 14.66 MiB | 17.50 MiB/s, done.\n",
            "Resolving deltas: 100% (11028/11028), done.\n"
          ]
        }
      ],
      "source": [
        "!git clone https://github.com/ultralytics/yolov5  # clone repo\n",
        "# !pip install -U -r yolov5/requirements.txt\n"
      ]
    },
    {
      "cell_type": "code",
      "execution_count": null,
      "metadata": {
        "id": "zcfM6DeQ-yZg"
      },
      "outputs": [],
      "source": []
    },
    {
      "cell_type": "code",
      "execution_count": null,
      "metadata": {
        "id": "DP2JnLZdZwce"
      },
      "outputs": [],
      "source": [
        "# !pip install utils\n",
        "!pip install -U -r /content/yolov5/requirements.txt"
      ]
    },
    {
      "cell_type": "markdown",
      "metadata": {
        "id": "au7juB07bhlK"
      },
      "source": [
        "# Setup Dataset"
      ]
    },
    {
      "cell_type": "code",
      "execution_count": null,
      "metadata": {
        "colab": {
          "base_uri": "https://localhost:8080/"
        },
        "id": "hL3VlOSOYUED",
        "outputId": "54362b5d-2ace-4e18-8bbd-d5183269ce12"
      },
      "outputs": [
        {
          "name": "stdout",
          "output_type": "stream",
          "text": [
            "  % Total    % Received % Xferd  Average Speed   Time    Time     Time  Current\n",
            "                                 Dload  Upload   Total   Spent    Left  Speed\n",
            "100   894  100   894    0     0   1672      0 --:--:-- --:--:-- --:--:--  1671\n",
            "100  252M  100  252M    0     0  17.4M      0  0:00:14  0:00:14 --:--:-- 21.5M\n"
          ]
        }
      ],
      "source": [
        "!curl -L \"https://app.roboflow.com/ds/wlBe7G8TD0?key=Gf3xzM64fu\" > countings.zip"
      ]
    },
    {
      "cell_type": "code",
      "execution_count": null,
      "metadata": {
        "id": "QIiXpDCfaxLl"
      },
      "outputs": [],
      "source": [
        "import zipfile\n",
        "with zipfile.ZipFile('countings.zip', 'r') as zip_ref:\n",
        "    zip_ref.extractall('/content/yolov5/countings')"
      ]
    },
    {
      "cell_type": "code",
      "execution_count": null,
      "metadata": {
        "colab": {
          "base_uri": "https://localhost:8080/"
        },
        "id": "bCG9ZCy9a6ql",
        "outputId": "ca0f1051-ca8e-45de-fc31-01206159a20d"
      },
      "outputs": [
        {
          "name": "stdout",
          "output_type": "stream",
          "text": [
            "train: ../train/images\n",
            "val: ../valid/images\n",
            "test: ../test/images\n",
            "\n",
            "nc: 2\n",
            "names: ['cage_wheel_track_down', 'cage_wheel_track_up']\n",
            "\n",
            "roboflow:\n",
            "  workspace: materials-detection\n",
            "  project: cage-wheel-track-rev\n",
            "  version: 21\n",
            "  license: CC BY 4.0\n",
            "  url: https://universe.roboflow.com/materials-detection/cage-wheel-track-rev/dataset/21"
          ]
        }
      ],
      "source": [
        "%cat /content/yolov5/countings/data.yaml"
      ]
    },
    {
      "cell_type": "code",
      "execution_count": null,
      "metadata": {
        "id": "o-dDyEwPbZAA"
      },
      "outputs": [],
      "source": [
        "import yaml\n",
        "with open(\"/content/yolov5/countings/data.yaml\", 'r') as stream:\n",
        "    num_classes = str(yaml.safe_load(stream)['nc'])"
      ]
    },
    {
      "cell_type": "code",
      "execution_count": null,
      "metadata": {
        "id": "Ihx4tNSFbn6C"
      },
      "outputs": [],
      "source": [
        "from IPython.core.magic import register_line_cell_magic\n",
        "\n",
        "@register_line_cell_magic\n",
        "def writetemplate(line, cell):\n",
        "    with open(line, 'w') as f:\n",
        "        f.write(cell.format(**globals()))"
      ]
    },
    {
      "cell_type": "code",
      "execution_count": null,
      "metadata": {
        "id": "vGb3Ymu6bu38"
      },
      "outputs": [],
      "source": [
        "%%writetemplate /content/yolov5/countings/data.yaml\n",
        "train: /content/yolov5/countings/train/images\n",
        "val: /content/yolov5/countings/valid/images\n",
        "test: /content/yolov5/countings/test/images\n",
        "\n",
        "nc: 2\n",
        "names: ['cage_wheel_track_down', 'cage_wheel_track_up']\n",
        "\n",
        "roboflow:\n",
        "  workspace: materials-detection\n",
        "  project: cage-wheel-track-rev\n",
        "  version: 21\n",
        "  license: CC BY 4.0\n",
        "  url: https://universe.roboflow.com/materials-detection/cage-wheel-track-rev/dataset/21"
      ]
    },
    {
      "cell_type": "code",
      "execution_count": null,
      "metadata": {
        "id": "XghKrU8tcAwp"
      },
      "outputs": [],
      "source": [
        "with open(r'/content/yolov5/countings/data.yaml') as file:\n",
        "    labels_list = yaml.load(file, Loader=yaml.FullLoader)\n",
        "    label_names = labels_list['names']"
      ]
    },
    {
      "cell_type": "markdown",
      "metadata": {
        "id": "k8x1YaS_FWRY"
      },
      "source": [
        "# Tuning Hyperparameter"
      ]
    },
    {
      "cell_type": "code",
      "execution_count": null,
      "metadata": {
        "colab": {
          "base_uri": "https://localhost:8080/"
        },
        "id": "xyv3a_xNFckn",
        "outputId": "fc42073e-80d8-44a8-90a7-59889bf16ef1"
      },
      "outputs": [
        {
          "name": "stdout",
          "output_type": "stream",
          "text": [
            "# YOLOv5 🚀 by Ultralytics, AGPL-3.0 license\n",
            "# Hyperparameters for high-augmentation COCO training from scratch\n",
            "# python train.py --batch 32 --cfg yolov5m6.yaml --weights '' --data coco.yaml --img 1280 --epochs 300\n",
            "# See tutorials for hyperparameter evolution https://github.com/ultralytics/yolov5#tutorials\n",
            "\n",
            "lr0: 0.01  # initial learning rate (SGD=1E-2, Adam=1E-3)\n",
            "lrf: 0.1  # final OneCycleLR learning rate (lr0 * lrf)\n",
            "momentum: 0.937  # SGD momentum/Adam beta1\n",
            "weight_decay: 0.0005  # optimizer weight decay 5e-4\n",
            "warmup_epochs: 3.0  # warmup epochs (fractions ok)\n",
            "warmup_momentum: 0.8  # warmup initial momentum\n",
            "warmup_bias_lr: 0.1  # warmup initial bias lr\n",
            "box: 0.05  # box loss gain\n",
            "cls: 0.3  # cls loss gain\n",
            "cls_pw: 1.0  # cls BCELoss positive_weight\n",
            "obj: 0.7  # obj loss gain (scale with pixels)\n",
            "obj_pw: 1.0  # obj BCELoss positive_weight\n",
            "iou_t: 0.20  # IoU training threshold\n",
            "anchor_t: 4.0  # anchor-multiple threshold\n",
            "# anchors: 3  # anchors per output layer (0 to ignore)\n",
            "fl_gamma: 0.0  # focal loss gamma (efficientDet default gamma=1.5)\n",
            "hsv_h: 0.015  # image HSV-Hue augmentation (fraction)\n",
            "hsv_s: 0.7  # image HSV-Saturation augmentation (fraction)\n",
            "hsv_v: 0.4  # image HSV-Value augmentation (fraction)\n",
            "degrees: 0.0  # image rotation (+/- deg)\n",
            "translate: 0.1  # image translation (+/- fraction)\n",
            "scale: 0.9  # image scale (+/- gain)\n",
            "shear: 0.0  # image shear (+/- deg)\n",
            "perspective: 0.0  # image perspective (+/- fraction), range 0-0.001\n",
            "flipud: 0.0  # image flip up-down (probability)\n",
            "fliplr: 0.5  # image flip left-right (probability)\n",
            "mosaic: 1.0  # image mosaic (probability)\n",
            "mixup: 0.1  # image mixup (probability)\n",
            "copy_paste: 0.1  # segment copy-paste (probability)\n"
          ]
        }
      ],
      "source": [
        "%cat /content/yolov5/data/hyps/hyp.scratch-high.yaml"
      ]
    },
    {
      "cell_type": "code",
      "execution_count": null,
      "metadata": {
        "id": "0P0FOKulGR2B"
      },
      "outputs": [],
      "source": [
        "%%writetemplate /content/yolov5/data/hyps/hyp.scratch-high.yaml\n",
        "# YOLOv5 🚀 by Ultralytics, AGPL-3.0 license\n",
        "# Hyperparameters for high-augmentation COCO training from scratch\n",
        "# python train.py --batch 32 --cfg yolov5m6.yaml --weights '' --data coco.yaml --img 1280 --epochs 300\n",
        "# See tutorials for hyperparameter evolution https://github.com/ultralytics/yolov5#tutorials\n",
        "\n",
        "lr0: 0.001  # initial learning rate (SGD=1E-2, Adam=1E-3)\n",
        "lrf: 0.1  # final OneCycleLR learning rate (lr0 * lrf)\n",
        "momentum: 0.937  # SGD momentum/Adam beta1\n",
        "weight_decay: 0.005  # optimizer weight decay 5e-4\n",
        "warmup_epochs: 3.0  # warmup epochs (fractions ok)\n",
        "warmup_momentum: 0.8  # warmup initial momentum\n",
        "warmup_bias_lr: 0.1  # warmup initial bias lr\n",
        "box: 0.05  # box loss gain\n",
        "cls: 0.3  # cls loss gain\n",
        "cls_pw: 1.0  # cls BCELoss positive_weight\n",
        "obj: 0.7  # obj loss gain (scale with pixels)\n",
        "obj_pw: 1.0  # obj BCELoss positive_weight\n",
        "iou_t: 0.20  # IoU training threshold\n",
        "anchor_t: 4.0  # anchor-multiple threshold\n",
        "# anchors: 3  # anchors per output layer (0 to ignore)\n",
        "fl_gamma: 0.0  # focal loss gamma (efficientDet default gamma=1.5)\n",
        "hsv_h: 0.015  # image HSV-Hue augmentation (fraction)\n",
        "hsv_s: 0.7  # image HSV-Saturation augmentation (fraction)\n",
        "hsv_v: 0.4  # image HSV-Value augmentation (fraction)\n",
        "degrees: 0.0  # image rotation (+/- deg)\n",
        "translate: 0.1  # image translation (+/- fraction)\n",
        "scale: 0.9  # image scale (+/- gain)\n",
        "shear: 0.0  # image shear (+/- deg)\n",
        "perspective: 0.0  # image perspective (+/- fraction), range 0-0.001\n",
        "flipud: 0.0  # image flip up-down (probability)\n",
        "fliplr: 0.5  # image flip left-right (probability)\n",
        "mosaic: 1.0  # image mosaic (probability)\n",
        "mixup: 0.1  # image mixup (probability)\n",
        "copy_paste: 0.1  # segment copy-paste (probability)"
      ]
    },
    {
      "cell_type": "code",
      "execution_count": null,
      "metadata": {
        "id": "m6kmKD-_GRux"
      },
      "outputs": [],
      "source": []
    },
    {
      "cell_type": "code",
      "execution_count": null,
      "metadata": {
        "colab": {
          "base_uri": "https://localhost:8080/"
        },
        "id": "mfOUXb6scUab",
        "outputId": "ccef8171-6dab-4522-bf0c-05d599f35fa5"
      },
      "outputs": [
        {
          "name": "stdout",
          "output_type": "stream",
          "text": [
            "python3: can't open file '/content/train.py': [Errno 2] No such file or directory\n"
          ]
        }
      ],
      "source": [
        "#%%time\n",
        "%cd /content/yolov5/\n",
        "!python train.py --img 640 --batch 1 --epochs 50 --data '/content/yolov5/try-cometML/data.yaml' --weights 'yolov5s.pt' --multi-scale"
      ]
    },
    {
      "cell_type": "code",
      "execution_count": null,
      "metadata": {
        "id": "1Q_jVwJBW8fS"
      },
      "outputs": [],
      "source": []
    },
    {
      "cell_type": "code",
      "execution_count": null,
      "metadata": {
        "id": "5CubEYUlW8Ww"
      },
      "outputs": [],
      "source": []
    },
    {
      "cell_type": "markdown",
      "metadata": {
        "id": "c6GMxasTrcTl"
      },
      "source": [
        "# Training Script"
      ]
    },
    {
      "cell_type": "code",
      "execution_count": null,
      "metadata": {
        "colab": {
          "base_uri": "https://localhost:8080/"
        },
        "id": "S737dZbcc1Jd",
        "outputId": "752549b2-4efc-493e-aacc-b1d2e934482d"
      },
      "outputs": [
        {
          "name": "stdout",
          "output_type": "stream",
          "text": [
            "/content/yolov5\n",
            "2023-11-14 01:57:37.129957: E tensorflow/compiler/xla/stream_executor/cuda/cuda_dnn.cc:9342] Unable to register cuDNN factory: Attempting to register factory for plugin cuDNN when one has already been registered\n",
            "2023-11-14 01:57:37.130022: E tensorflow/compiler/xla/stream_executor/cuda/cuda_fft.cc:609] Unable to register cuFFT factory: Attempting to register factory for plugin cuFFT when one has already been registered\n",
            "2023-11-14 01:57:37.130061: E tensorflow/compiler/xla/stream_executor/cuda/cuda_blas.cc:1518] Unable to register cuBLAS factory: Attempting to register factory for plugin cuBLAS when one has already been registered\n",
            "\u001b[34m\u001b[1mtrain: \u001b[0mweights=yolov5x.pt, cfg=, data=/content/yolov5/countings/data.yaml, hyp=data/hyps/hyp.scratch-high.yaml, epochs=50, batch_size=6, imgsz=640, rect=False, resume=False, nosave=False, noval=False, noautoanchor=False, noplots=False, evolve=None, bucket=, cache=None, image_weights=False, device=, multi_scale=True, single_cls=False, optimizer=AdamW, sync_bn=False, workers=8, project=runs/train, name=AdamW lr 0.001, exist_ok=False, quad=False, cos_lr=False, label_smoothing=0.0, patience=100, freeze=[0], save_period=-1, seed=0, local_rank=-1, entity=None, upload_dataset=False, bbox_interval=-1, artifact_alias=latest\n",
            "\u001b[34m\u001b[1mgithub: \u001b[0mup to date with https://github.com/ultralytics/yolov5 ✅\n",
            "YOLOv5 🚀 v7.0-240-g84ec8b5 Python-3.10.12 torch-2.1.0+cu118 CUDA:0 (Tesla T4, 15102MiB)\n",
            "\n",
            "\u001b[34m\u001b[1mhyperparameters: \u001b[0mlr0=0.001, lrf=0.1, momentum=0.937, weight_decay=0.0005, warmup_epochs=3.0, warmup_momentum=0.8, warmup_bias_lr=0.1, box=0.05, cls=0.3, cls_pw=1.0, obj=0.7, obj_pw=1.0, iou_t=0.2, anchor_t=4.0, fl_gamma=0.0, hsv_h=0.015, hsv_s=0.7, hsv_v=0.4, degrees=0.0, translate=0.1, scale=0.9, shear=0.0, perspective=0.0, flipud=0.0, fliplr=0.5, mosaic=1.0, mixup=0.1, copy_paste=0.1\n",
            "\u001b[34m\u001b[1mTensorBoard: \u001b[0mStart with 'tensorboard --logdir runs/train', view at http://localhost:6006/\n",
            "\u001b[1;38;5;39mCOMET INFO:\u001b[0m Experiment is live on comet.com \u001b[38;5;39mhttps://www.comet.com/silfaradila/object-countings/1702155f9c8a4defb6c7e9b61e90d9e3\u001b[0m\n",
            "\n",
            "Overriding model.yaml nc=80 with nc=2\n",
            "\n",
            "                 from  n    params  module                                  arguments                     \n",
            "  0                -1  1      8800  models.common.Conv                      [3, 80, 6, 2, 2]              \n",
            "  1                -1  1    115520  models.common.Conv                      [80, 160, 3, 2]               \n",
            "  2                -1  4    309120  models.common.C3                        [160, 160, 4]                 \n",
            "  3                -1  1    461440  models.common.Conv                      [160, 320, 3, 2]              \n",
            "  4                -1  8   2259200  models.common.C3                        [320, 320, 8]                 \n",
            "  5                -1  1   1844480  models.common.Conv                      [320, 640, 3, 2]              \n",
            "  6                -1 12  13125120  models.common.C3                        [640, 640, 12]                \n",
            "  7                -1  1   7375360  models.common.Conv                      [640, 1280, 3, 2]             \n",
            "  8                -1  4  19676160  models.common.C3                        [1280, 1280, 4]               \n",
            "  9                -1  1   4099840  models.common.SPPF                      [1280, 1280, 5]               \n",
            " 10                -1  1    820480  models.common.Conv                      [1280, 640, 1, 1]             \n",
            " 11                -1  1         0  torch.nn.modules.upsampling.Upsample    [None, 2, 'nearest']          \n",
            " 12           [-1, 6]  1         0  models.common.Concat                    [1]                           \n",
            " 13                -1  4   5332480  models.common.C3                        [1280, 640, 4, False]         \n",
            " 14                -1  1    205440  models.common.Conv                      [640, 320, 1, 1]              \n",
            " 15                -1  1         0  torch.nn.modules.upsampling.Upsample    [None, 2, 'nearest']          \n",
            " 16           [-1, 4]  1         0  models.common.Concat                    [1]                           \n",
            " 17                -1  4   1335040  models.common.C3                        [640, 320, 4, False]          \n",
            " 18                -1  1    922240  models.common.Conv                      [320, 320, 3, 2]              \n",
            " 19          [-1, 14]  1         0  models.common.Concat                    [1]                           \n",
            " 20                -1  4   4922880  models.common.C3                        [640, 640, 4, False]          \n",
            " 21                -1  1   3687680  models.common.Conv                      [640, 640, 3, 2]              \n",
            " 22          [-1, 10]  1         0  models.common.Concat                    [1]                           \n",
            " 23                -1  4  19676160  models.common.C3                        [1280, 1280, 4, False]        \n",
            " 24      [17, 20, 23]  1     47103  models.yolo.Detect                      [2, [[10, 13, 16, 30, 33, 23], [30, 61, 62, 45, 59, 119], [116, 90, 156, 198, 373, 326]], [320, 640, 1280]]\n",
            "Model summary: 445 layers, 86224543 parameters, 86224543 gradients, 204.6 GFLOPs\n",
            "\n",
            "Transferred 739/745 items from yolov5x.pt\n",
            "\u001b[34m\u001b[1mAMP: \u001b[0mchecks passed ✅\n",
            "\u001b[34m\u001b[1moptimizer:\u001b[0m AdamW(lr=0.001) with parameter groups 123 weight(decay=0.0), 126 weight(decay=0.000515625), 126 bias\n",
            "\u001b[34m\u001b[1malbumentations: \u001b[0mBlur(p=0.01, blur_limit=(3, 7)), MedianBlur(p=0.01, blur_limit=(3, 7)), ToGray(p=0.01), CLAHE(p=0.01, clip_limit=(1, 4.0), tile_grid_size=(8, 8))\n",
            "\u001b[34m\u001b[1mtrain: \u001b[0mScanning /content/yolov5/countings/train/labels... 1750 images, 118 backgrounds, 0 corrupt: 100%|██████████| 1750/1750 [00:04<00:00, 413.45it/s]\n",
            "\u001b[34m\u001b[1mtrain: \u001b[0mNew cache created: /content/yolov5/countings/train/labels.cache\n",
            "\u001b[34m\u001b[1mval: \u001b[0mScanning /content/yolov5/countings/valid/labels... 484 images, 11 backgrounds, 0 corrupt: 100%|██████████| 484/484 [00:07<00:00, 66.47it/s]\n",
            "\u001b[34m\u001b[1mval: \u001b[0mNew cache created: /content/yolov5/countings/valid/labels.cache\n",
            "\n",
            "\u001b[34m\u001b[1mAutoAnchor: \u001b[0m5.41 anchors/target, 1.000 Best Possible Recall (BPR). Current anchors are a good fit to dataset ✅\n",
            "Plotting labels to runs/train/AdamW lr 0.0012/labels.jpg... \n",
            "Image sizes 640 train, 640 val\n",
            "Using 2 dataloader workers\n",
            "Logging results to \u001b[1mruns/train/AdamW lr 0.0012\u001b[0m\n",
            "Starting training for 50 epochs...\n",
            "\n",
            "      Epoch    GPU_mem   box_loss   obj_loss   cls_loss  Instances       Size\n",
            "       0/49      12.5G     0.1106     0.1828     0.0156       1270        640:   9%|▉         | 26/292 [00:42<07:13,  1.63s/it]\n",
            "Traceback (most recent call last):\n",
            "  File \"/content/yolov5/train.py\", line 647, in <module>\n",
            "    main(opt)\n",
            "  File \"/content/yolov5/train.py\", line 536, in main\n",
            "    train(opt.hyp, opt, device, callbacks)\n",
            "  File \"/content/yolov5/train.py\", line 331, in train\n",
            "    scaler.step(optimizer)  # optimizer.step\n",
            "  File \"/usr/local/lib/python3.10/dist-packages/torch/cuda/amp/grad_scaler.py\", line 416, in step\n",
            "    retval = self._maybe_opt_step(optimizer, optimizer_state, *args, **kwargs)\n",
            "  File \"/usr/local/lib/python3.10/dist-packages/torch/cuda/amp/grad_scaler.py\", line 314, in _maybe_opt_step\n",
            "    if not sum(v.item() for v in optimizer_state[\"found_inf_per_device\"].values()):\n",
            "  File \"/usr/local/lib/python3.10/dist-packages/torch/cuda/amp/grad_scaler.py\", line 314, in <genexpr>\n",
            "    if not sum(v.item() for v in optimizer_state[\"found_inf_per_device\"].values()):\n",
            "KeyboardInterrupt\n",
            "\u001b[1;38;5;39mCOMET INFO:\u001b[0m ---------------------------------------------------------------------------------------\n",
            "\u001b[1;38;5;39mCOMET INFO:\u001b[0m Comet.ml Experiment Summary\n",
            "\u001b[1;38;5;39mCOMET INFO:\u001b[0m ---------------------------------------------------------------------------------------\n",
            "\u001b[1;38;5;39mCOMET INFO:\u001b[0m   Data:\n",
            "\u001b[1;38;5;39mCOMET INFO:\u001b[0m     display_summary_level : 1\n",
            "\u001b[1;38;5;39mCOMET INFO:\u001b[0m     url                   : \u001b[38;5;39mhttps://www.comet.com/silfaradila/object-countings/1702155f9c8a4defb6c7e9b61e90d9e3\u001b[0m\n",
            "\u001b[1;38;5;39mCOMET INFO:\u001b[0m   Metrics [count] (min, max):\n",
            "\u001b[1;38;5;39mCOMET INFO:\u001b[0m     loss [3] : (1.4414138793945312, 2.063680648803711)\n",
            "\u001b[1;38;5;39mCOMET INFO:\u001b[0m   Others:\n",
            "\u001b[1;38;5;39mCOMET INFO:\u001b[0m     Name                        : AdamW lr 0.001\n",
            "\u001b[1;38;5;39mCOMET INFO:\u001b[0m     Run Path                    : silfaradila/object-countings/1702155f9c8a4defb6c7e9b61e90d9e3\n",
            "\u001b[1;38;5;39mCOMET INFO:\u001b[0m     comet_log_batch_metrics     : False\n",
            "\u001b[1;38;5;39mCOMET INFO:\u001b[0m     comet_log_confusion_matrix  : True\n",
            "\u001b[1;38;5;39mCOMET INFO:\u001b[0m     comet_log_per_class_metrics : True\n",
            "\u001b[1;38;5;39mCOMET INFO:\u001b[0m     comet_max_image_uploads     : 100\n",
            "\u001b[1;38;5;39mCOMET INFO:\u001b[0m     comet_mode                  : online\n",
            "\u001b[1;38;5;39mCOMET INFO:\u001b[0m     comet_model_name            : yolov5\n",
            "\u001b[1;38;5;39mCOMET INFO:\u001b[0m     hasNestedParams             : True\n",
            "\u001b[1;38;5;39mCOMET INFO:\u001b[0m   Parameters:\n",
            "\u001b[1;38;5;39mCOMET INFO:\u001b[0m     anchor_t            : 4.0\n",
            "\u001b[1;38;5;39mCOMET INFO:\u001b[0m     artifact_alias      : latest\n",
            "\u001b[1;38;5;39mCOMET INFO:\u001b[0m     batch_size          : 6\n",
            "\u001b[1;38;5;39mCOMET INFO:\u001b[0m     bbox_interval       : -1\n",
            "\u001b[1;38;5;39mCOMET INFO:\u001b[0m     box                 : 0.05\n",
            "\u001b[1;38;5;39mCOMET INFO:\u001b[0m     bucket              : \n",
            "\u001b[1;38;5;39mCOMET INFO:\u001b[0m     cache               : None\n",
            "\u001b[1;38;5;39mCOMET INFO:\u001b[0m     cfg                 : \n",
            "\u001b[1;38;5;39mCOMET INFO:\u001b[0m     cls                 : 0.0075000000000000015\n",
            "\u001b[1;38;5;39mCOMET INFO:\u001b[0m     cls_pw              : 1.0\n",
            "\u001b[1;38;5;39mCOMET INFO:\u001b[0m     copy_paste          : 0.1\n",
            "\u001b[1;38;5;39mCOMET INFO:\u001b[0m     cos_lr              : False\n",
            "\u001b[1;38;5;39mCOMET INFO:\u001b[0m     degrees             : 0.0\n",
            "\u001b[1;38;5;39mCOMET INFO:\u001b[0m     device              : \n",
            "\u001b[1;38;5;39mCOMET INFO:\u001b[0m     entity              : None\n",
            "\u001b[1;38;5;39mCOMET INFO:\u001b[0m     evolve              : None\n",
            "\u001b[1;38;5;39mCOMET INFO:\u001b[0m     exist_ok            : False\n",
            "\u001b[1;38;5;39mCOMET INFO:\u001b[0m     fl_gamma            : 0.0\n",
            "\u001b[1;38;5;39mCOMET INFO:\u001b[0m     fliplr              : 0.5\n",
            "\u001b[1;38;5;39mCOMET INFO:\u001b[0m     flipud              : 0.0\n",
            "\u001b[1;38;5;39mCOMET INFO:\u001b[0m     freeze              : [0]\n",
            "\u001b[1;38;5;39mCOMET INFO:\u001b[0m     hsv_h               : 0.015\n",
            "\u001b[1;38;5;39mCOMET INFO:\u001b[0m     hsv_s               : 0.7\n",
            "\u001b[1;38;5;39mCOMET INFO:\u001b[0m     hsv_v               : 0.4\n",
            "\u001b[1;38;5;39mCOMET INFO:\u001b[0m     hyp|anchor_t        : 4.0\n",
            "\u001b[1;38;5;39mCOMET INFO:\u001b[0m     hyp|box             : 0.05\n",
            "\u001b[1;38;5;39mCOMET INFO:\u001b[0m     hyp|cls             : 0.3\n",
            "\u001b[1;38;5;39mCOMET INFO:\u001b[0m     hyp|cls_pw          : 1.0\n",
            "\u001b[1;38;5;39mCOMET INFO:\u001b[0m     hyp|copy_paste      : 0.1\n",
            "\u001b[1;38;5;39mCOMET INFO:\u001b[0m     hyp|degrees         : 0.0\n",
            "\u001b[1;38;5;39mCOMET INFO:\u001b[0m     hyp|fl_gamma        : 0.0\n",
            "\u001b[1;38;5;39mCOMET INFO:\u001b[0m     hyp|fliplr          : 0.5\n",
            "\u001b[1;38;5;39mCOMET INFO:\u001b[0m     hyp|flipud          : 0.0\n",
            "\u001b[1;38;5;39mCOMET INFO:\u001b[0m     hyp|hsv_h           : 0.015\n",
            "\u001b[1;38;5;39mCOMET INFO:\u001b[0m     hyp|hsv_s           : 0.7\n",
            "\u001b[1;38;5;39mCOMET INFO:\u001b[0m     hyp|hsv_v           : 0.4\n",
            "\u001b[1;38;5;39mCOMET INFO:\u001b[0m     hyp|iou_t           : 0.2\n",
            "\u001b[1;38;5;39mCOMET INFO:\u001b[0m     hyp|lr0             : 0.001\n",
            "\u001b[1;38;5;39mCOMET INFO:\u001b[0m     hyp|lrf             : 0.1\n",
            "\u001b[1;38;5;39mCOMET INFO:\u001b[0m     hyp|mixup           : 0.1\n",
            "\u001b[1;38;5;39mCOMET INFO:\u001b[0m     hyp|momentum        : 0.937\n",
            "\u001b[1;38;5;39mCOMET INFO:\u001b[0m     hyp|mosaic          : 1.0\n",
            "\u001b[1;38;5;39mCOMET INFO:\u001b[0m     hyp|obj             : 0.7\n",
            "\u001b[1;38;5;39mCOMET INFO:\u001b[0m     hyp|obj_pw          : 1.0\n",
            "\u001b[1;38;5;39mCOMET INFO:\u001b[0m     hyp|perspective     : 0.0\n",
            "\u001b[1;38;5;39mCOMET INFO:\u001b[0m     hyp|scale           : 0.9\n",
            "\u001b[1;38;5;39mCOMET INFO:\u001b[0m     hyp|shear           : 0.0\n",
            "\u001b[1;38;5;39mCOMET INFO:\u001b[0m     hyp|translate       : 0.1\n",
            "\u001b[1;38;5;39mCOMET INFO:\u001b[0m     hyp|warmup_bias_lr  : 0.1\n",
            "\u001b[1;38;5;39mCOMET INFO:\u001b[0m     hyp|warmup_epochs   : 3.0\n",
            "\u001b[1;38;5;39mCOMET INFO:\u001b[0m     hyp|warmup_momentum : 0.8\n",
            "\u001b[1;38;5;39mCOMET INFO:\u001b[0m     hyp|weight_decay    : 0.0005\n",
            "\u001b[1;38;5;39mCOMET INFO:\u001b[0m     image_weights       : False\n",
            "\u001b[1;38;5;39mCOMET INFO:\u001b[0m     imgsz               : 640\n",
            "\u001b[1;38;5;39mCOMET INFO:\u001b[0m     iou_t               : 0.2\n",
            "\u001b[1;38;5;39mCOMET INFO:\u001b[0m     label_smoothing     : 0.0\n",
            "\u001b[1;38;5;39mCOMET INFO:\u001b[0m     local_rank          : -1\n",
            "\u001b[1;38;5;39mCOMET INFO:\u001b[0m     lr0                 : 0.001\n",
            "\u001b[1;38;5;39mCOMET INFO:\u001b[0m     lrf                 : 0.1\n",
            "\u001b[1;38;5;39mCOMET INFO:\u001b[0m     mixup               : 0.1\n",
            "\u001b[1;38;5;39mCOMET INFO:\u001b[0m     momentum            : 0.937\n",
            "\u001b[1;38;5;39mCOMET INFO:\u001b[0m     mosaic              : 1.0\n",
            "\u001b[1;38;5;39mCOMET INFO:\u001b[0m     multi_scale         : True\n",
            "\u001b[1;38;5;39mCOMET INFO:\u001b[0m     noautoanchor        : False\n",
            "\u001b[1;38;5;39mCOMET INFO:\u001b[0m     noplots             : False\n",
            "\u001b[1;38;5;39mCOMET INFO:\u001b[0m     nosave              : False\n",
            "\u001b[1;38;5;39mCOMET INFO:\u001b[0m     noval               : False\n",
            "\u001b[1;38;5;39mCOMET INFO:\u001b[0m     obj                 : 0.7\n",
            "\u001b[1;38;5;39mCOMET INFO:\u001b[0m     obj_pw              : 1.0\n",
            "\u001b[1;38;5;39mCOMET INFO:\u001b[0m     patience            : 100\n",
            "\u001b[1;38;5;39mCOMET INFO:\u001b[0m     perspective         : 0.0\n",
            "\u001b[1;38;5;39mCOMET INFO:\u001b[0m     project             : runs/train\n",
            "\u001b[1;38;5;39mCOMET INFO:\u001b[0m     quad                : False\n",
            "\u001b[1;38;5;39mCOMET INFO:\u001b[0m     rect                : False\n",
            "\u001b[1;38;5;39mCOMET INFO:\u001b[0m     resume              : False\n",
            "\u001b[1;38;5;39mCOMET INFO:\u001b[0m     save_dir            : runs/train/AdamW lr 0.0012\n",
            "\u001b[1;38;5;39mCOMET INFO:\u001b[0m     save_period         : -1\n",
            "\u001b[1;38;5;39mCOMET INFO:\u001b[0m     scale               : 0.9\n",
            "\u001b[1;38;5;39mCOMET INFO:\u001b[0m     seed                : 0\n",
            "\u001b[1;38;5;39mCOMET INFO:\u001b[0m     shear               : 0.0\n",
            "\u001b[1;38;5;39mCOMET INFO:\u001b[0m     single_cls          : False\n",
            "\u001b[1;38;5;39mCOMET INFO:\u001b[0m     sync_bn             : False\n",
            "\u001b[1;38;5;39mCOMET INFO:\u001b[0m     translate           : 0.1\n",
            "\u001b[1;38;5;39mCOMET INFO:\u001b[0m     upload_dataset      : False\n",
            "\u001b[1;38;5;39mCOMET INFO:\u001b[0m     val_conf_threshold  : 0.001\n",
            "\u001b[1;38;5;39mCOMET INFO:\u001b[0m     val_iou_threshold   : 0.6\n",
            "\u001b[1;38;5;39mCOMET INFO:\u001b[0m     warmup_bias_lr      : 0.1\n",
            "\u001b[1;38;5;39mCOMET INFO:\u001b[0m     warmup_epochs       : 3.0\n",
            "\u001b[1;38;5;39mCOMET INFO:\u001b[0m     warmup_momentum     : 0.8\n",
            "\u001b[1;38;5;39mCOMET INFO:\u001b[0m     weight_decay        : 0.000515625\n",
            "\u001b[1;38;5;39mCOMET INFO:\u001b[0m     workers             : 8\n",
            "\u001b[1;38;5;39mCOMET INFO:\u001b[0m   Uploads:\n",
            "\u001b[1;38;5;39mCOMET INFO:\u001b[0m     asset               : 5 (402.21 KB)\n",
            "\u001b[1;38;5;39mCOMET INFO:\u001b[0m     environment details : 1\n",
            "\u001b[1;38;5;39mCOMET INFO:\u001b[0m     git metadata        : 1\n",
            "\u001b[1;38;5;39mCOMET INFO:\u001b[0m     installed packages  : 1\n",
            "\u001b[1;38;5;39mCOMET INFO:\u001b[0m     model graph         : 1\n",
            "\u001b[1;38;5;39mCOMET INFO:\u001b[0m     os packages         : 1\n",
            "\u001b[1;38;5;39mCOMET INFO:\u001b[0m \n"
          ]
        }
      ],
      "source": [
        "!chmod +w /content/yolov5/countings/train/labels\n",
        "#%%time\n",
        "%cd /content/yolov5/\n",
        "!env COMET_LOG_PER_CLASS_METRICS=true python train.py \\\n",
        "--img 640 \\\n",
        "--batch 6 \\\n",
        "--epochs 50 \\\n",
        "--data '/content/yolov5/countings/data.yaml' \\\n",
        "--hyp 'data/hyps/hyp.scratch-high.yaml' \\\n",
        "--name 'Adam50epoch' \\\n",
        "--optimizer 'AdamW' \\\n",
        "--weights '/content/drive/MyDrive/best.pt' \\\n",
        "--multi-scale"
      ]
    },
    {
      "cell_type": "code",
      "execution_count": null,
      "metadata": {
        "colab": {
          "base_uri": "https://localhost:8080/"
        },
        "id": "JPv9RHxB3WF7",
        "outputId": "905fd6d4-0b56-40fe-a3bb-d0efd08987aa"
      },
      "outputs": [
        {
          "name": "stdout",
          "output_type": "stream",
          "text": [
            "/content/yolov5\n",
            "2023-11-15 01:50:09.411556: E tensorflow/compiler/xla/stream_executor/cuda/cuda_dnn.cc:9342] Unable to register cuDNN factory: Attempting to register factory for plugin cuDNN when one has already been registered\n",
            "2023-11-15 01:50:09.411610: E tensorflow/compiler/xla/stream_executor/cuda/cuda_fft.cc:609] Unable to register cuFFT factory: Attempting to register factory for plugin cuFFT when one has already been registered\n",
            "2023-11-15 01:50:09.411649: E tensorflow/compiler/xla/stream_executor/cuda/cuda_blas.cc:1518] Unable to register cuBLAS factory: Attempting to register factory for plugin cuBLAS when one has already been registered\n",
            "\u001b[34m\u001b[1mtrain: \u001b[0mweights=yolov5x.pt, cfg=, data=/content/yolov5/countings/data.yaml, hyp=data/hyps/hyp.scratch-high.yaml, epochs=20, batch_size=6, imgsz=640, rect=False, resume=False, nosave=False, noval=False, noautoanchor=False, noplots=False, evolve=None, bucket=, cache=ram, image_weights=False, device=, multi_scale=True, single_cls=False, optimizer=AdamW, sync_bn=False, workers=8, project=runs/train, name=AdamW wd 5e-3 + scheduler, exist_ok=False, quad=False, cos_lr=True, label_smoothing=0.0, patience=100, freeze=[0], save_period=-1, seed=0, local_rank=-1, entity=None, upload_dataset=False, bbox_interval=-1, artifact_alias=latest\n",
            "\u001b[34m\u001b[1mgithub: \u001b[0mup to date with https://github.com/ultralytics/yolov5 ✅\n",
            "YOLOv5 🚀 v7.0-240-g84ec8b5 Python-3.10.12 torch-2.1.0+cu118 CUDA:0 (Tesla T4, 15102MiB)\n",
            "\n",
            "\u001b[34m\u001b[1mhyperparameters: \u001b[0mlr0=0.001, lrf=0.1, momentum=0.937, weight_decay=0.005, warmup_epochs=3.0, warmup_momentum=0.8, warmup_bias_lr=0.1, box=0.05, cls=0.3, cls_pw=1.0, obj=0.7, obj_pw=1.0, iou_t=0.2, anchor_t=4.0, fl_gamma=0.0, hsv_h=0.015, hsv_s=0.7, hsv_v=0.4, degrees=0.0, translate=0.1, scale=0.9, shear=0.0, perspective=0.0, flipud=0.0, fliplr=0.5, mosaic=1.0, mixup=0.1, copy_paste=0.1\n",
            "\u001b[34m\u001b[1mTensorBoard: \u001b[0mStart with 'tensorboard --logdir runs/train', view at http://localhost:6006/\n",
            "\u001b[1;38;5;39mCOMET INFO:\u001b[0m Experiment is live on comet.com \u001b[38;5;39mhttps://www.comet.com/silfaradila/object-countings/20bfde12d1bd46538d8de49baee8ce42\u001b[0m\n",
            "\n",
            "Overriding model.yaml nc=80 with nc=2\n",
            "\n",
            "                 from  n    params  module                                  arguments                     \n",
            "  0                -1  1      8800  models.common.Conv                      [3, 80, 6, 2, 2]              \n",
            "  1                -1  1    115520  models.common.Conv                      [80, 160, 3, 2]               \n",
            "  2                -1  4    309120  models.common.C3                        [160, 160, 4]                 \n",
            "  3                -1  1    461440  models.common.Conv                      [160, 320, 3, 2]              \n",
            "  4                -1  8   2259200  models.common.C3                        [320, 320, 8]                 \n",
            "  5                -1  1   1844480  models.common.Conv                      [320, 640, 3, 2]              \n",
            "  6                -1 12  13125120  models.common.C3                        [640, 640, 12]                \n",
            "  7                -1  1   7375360  models.common.Conv                      [640, 1280, 3, 2]             \n",
            "  8                -1  4  19676160  models.common.C3                        [1280, 1280, 4]               \n",
            "  9                -1  1   4099840  models.common.SPPF                      [1280, 1280, 5]               \n",
            " 10                -1  1    820480  models.common.Conv                      [1280, 640, 1, 1]             \n",
            " 11                -1  1         0  torch.nn.modules.upsampling.Upsample    [None, 2, 'nearest']          \n",
            " 12           [-1, 6]  1         0  models.common.Concat                    [1]                           \n",
            " 13                -1  4   5332480  models.common.C3                        [1280, 640, 4, False]         \n",
            " 14                -1  1    205440  models.common.Conv                      [640, 320, 1, 1]              \n",
            " 15                -1  1         0  torch.nn.modules.upsampling.Upsample    [None, 2, 'nearest']          \n",
            " 16           [-1, 4]  1         0  models.common.Concat                    [1]                           \n",
            " 17                -1  4   1335040  models.common.C3                        [640, 320, 4, False]          \n",
            " 18                -1  1    922240  models.common.Conv                      [320, 320, 3, 2]              \n",
            " 19          [-1, 14]  1         0  models.common.Concat                    [1]                           \n",
            " 20                -1  4   4922880  models.common.C3                        [640, 640, 4, False]          \n",
            " 21                -1  1   3687680  models.common.Conv                      [640, 640, 3, 2]              \n",
            " 22          [-1, 10]  1         0  models.common.Concat                    [1]                           \n",
            " 23                -1  4  19676160  models.common.C3                        [1280, 1280, 4, False]        \n",
            " 24      [17, 20, 23]  1     47103  models.yolo.Detect                      [2, [[10, 13, 16, 30, 33, 23], [30, 61, 62, 45, 59, 119], [116, 90, 156, 198, 373, 326]], [320, 640, 1280]]\n",
            "Model summary: 445 layers, 86224543 parameters, 86224543 gradients, 204.6 GFLOPs\n",
            "\n",
            "Transferred 739/745 items from yolov5x.pt\n",
            "\u001b[34m\u001b[1mAMP: \u001b[0mchecks passed ✅\n",
            "\u001b[34m\u001b[1moptimizer:\u001b[0m AdamW(lr=0.001) with parameter groups 123 weight(decay=0.0), 126 weight(decay=0.00515625), 126 bias\n",
            "\u001b[34m\u001b[1malbumentations: \u001b[0mBlur(p=0.01, blur_limit=(3, 7)), MedianBlur(p=0.01, blur_limit=(3, 7)), ToGray(p=0.01), CLAHE(p=0.01, clip_limit=(1, 4.0), tile_grid_size=(8, 8))\n",
            "\u001b[34m\u001b[1mtrain: \u001b[0mScanning /content/yolov5/countings/train/labels... 1750 images, 118 backgrounds, 0 corrupt: 100%|██████████| 1750/1750 [00:06<00:00, 285.66it/s]\n",
            "\u001b[34m\u001b[1mtrain: \u001b[0mNew cache created: /content/yolov5/countings/train/labels.cache\n",
            "\u001b[34m\u001b[1mtrain: \u001b[0mCaching images (2.0GB ram): 100%|██████████| 1750/1750 [00:09<00:00, 181.10it/s]\n",
            "\u001b[34m\u001b[1mval: \u001b[0mScanning /content/yolov5/countings/valid/labels... 484 images, 11 backgrounds, 0 corrupt: 100%|██████████| 484/484 [00:07<00:00, 67.95it/s]\n",
            "\u001b[34m\u001b[1mval: \u001b[0mNew cache created: /content/yolov5/countings/valid/labels.cache\n",
            "\u001b[34m\u001b[1mval: \u001b[0mCaching images (0.6GB ram): 100%|██████████| 484/484 [00:02<00:00, 162.75it/s]\n",
            "\n",
            "\u001b[34m\u001b[1mAutoAnchor: \u001b[0m5.41 anchors/target, 1.000 Best Possible Recall (BPR). Current anchors are a good fit to dataset ✅\n",
            "Plotting labels to runs/train/AdamW wd 5e-3 + scheduler/labels.jpg... \n",
            "Image sizes 640 train, 640 val\n",
            "Using 2 dataloader workers\n",
            "Logging results to \u001b[1mruns/train/AdamW wd 5e-3 + scheduler\u001b[0m\n",
            "Starting training for 20 epochs...\n",
            "\n",
            "      Epoch    GPU_mem   box_loss   obj_loss   cls_loss  Instances       Size\n",
            "       0/19      13.3G    0.08422     0.1723    0.01413        286        704: 100%|██████████| 292/292 [05:04<00:00,  1.04s/it]\n",
            "                 Class     Images  Instances          P          R      mAP50   mAP50-95: 100%|██████████| 41/41 [00:44<00:00,  1.09s/it]\n",
            "                   all        484      58276      0.654      0.748      0.717      0.364\n",
            "\n",
            "      Epoch    GPU_mem   box_loss   obj_loss   cls_loss  Instances       Size\n",
            "       1/19      13.3G    0.07217     0.1593    0.01352        359        736: 100%|██████████| 292/292 [04:43<00:00,  1.03it/s]\n",
            "                 Class     Images  Instances          P          R      mAP50   mAP50-95:   0%|          | 0/41 [00:00<?, ?it/s]WARNING ⚠️ NMS time limit 1.100s exceeded\n",
            "                 Class     Images  Instances          P          R      mAP50   mAP50-95: 100%|██████████| 41/41 [00:25<00:00,  1.59it/s]\n",
            "                   all        484      58276      0.807      0.832      0.829      0.516\n",
            "\n",
            "      Epoch    GPU_mem   box_loss   obj_loss   cls_loss  Instances       Size\n",
            "       2/19      13.4G    0.07034     0.1587    0.01275        397        480: 100%|██████████| 292/292 [04:40<00:00,  1.04it/s]\n",
            "                 Class     Images  Instances          P          R      mAP50   mAP50-95: 100%|██████████| 41/41 [00:22<00:00,  1.80it/s]\n",
            "                   all        484      58276      0.901      0.846      0.897       0.57\n",
            "\n",
            "      Epoch    GPU_mem   box_loss   obj_loss   cls_loss  Instances       Size\n",
            "       3/19      13.4G    0.06681     0.1476    0.01198        781        640: 100%|██████████| 292/292 [04:40<00:00,  1.04it/s]\n",
            "                 Class     Images  Instances          P          R      mAP50   mAP50-95: 100%|██████████| 41/41 [00:21<00:00,  1.93it/s]\n",
            "                   all        484      58276      0.932      0.911      0.931      0.626\n",
            "\n",
            "      Epoch    GPU_mem   box_loss   obj_loss   cls_loss  Instances       Size\n",
            "       4/19      13.4G     0.0655     0.1543    0.01171        505        480: 100%|██████████| 292/292 [04:42<00:00,  1.03it/s]\n",
            "                 Class     Images  Instances          P          R      mAP50   mAP50-95: 100%|██████████| 41/41 [00:19<00:00,  2.08it/s]\n",
            "                   all        484      58276      0.958      0.919      0.945      0.679\n",
            "\n",
            "      Epoch    GPU_mem   box_loss   obj_loss   cls_loss  Instances       Size\n",
            "       5/19      13.4G    0.06529     0.1431    0.01155        410        704: 100%|██████████| 292/292 [04:37<00:00,  1.05it/s]\n",
            "                 Class     Images  Instances          P          R      mAP50   mAP50-95: 100%|██████████| 41/41 [00:19<00:00,  2.10it/s]\n",
            "                   all        484      58276      0.968      0.926      0.953       0.68\n",
            "\n",
            "      Epoch    GPU_mem   box_loss   obj_loss   cls_loss  Instances       Size\n",
            "       6/19      13.4G    0.06302     0.1485    0.01106        587        832: 100%|██████████| 292/292 [04:38<00:00,  1.05it/s]\n",
            "                 Class     Images  Instances          P          R      mAP50   mAP50-95: 100%|██████████| 41/41 [00:21<00:00,  1.91it/s]\n",
            "                   all        484      58276      0.974      0.927      0.954      0.688\n",
            "\n",
            "      Epoch    GPU_mem   box_loss   obj_loss   cls_loss  Instances       Size\n",
            "       7/19      13.4G    0.06276     0.1397    0.01091         78        416: 100%|██████████| 292/292 [04:40<00:00,  1.04it/s]\n",
            "                 Class     Images  Instances          P          R      mAP50   mAP50-95: 100%|██████████| 41/41 [00:20<00:00,  2.04it/s]\n",
            "                   all        484      58276      0.973      0.929      0.953      0.694\n",
            "\n",
            "      Epoch    GPU_mem   box_loss   obj_loss   cls_loss  Instances       Size\n",
            "       8/19      13.4G    0.06098     0.1436    0.01063        254        736: 100%|██████████| 292/292 [04:47<00:00,  1.01it/s]\n",
            "                 Class     Images  Instances          P          R      mAP50   mAP50-95: 100%|██████████| 41/41 [00:21<00:00,  1.93it/s]\n",
            "                   all        484      58276      0.977      0.937       0.96      0.706\n",
            "\n",
            "      Epoch    GPU_mem   box_loss   obj_loss   cls_loss  Instances       Size\n",
            "       9/19      13.4G     0.0597     0.1375    0.01051         77        896: 100%|██████████| 292/292 [04:53<00:00,  1.00s/it]\n",
            "                 Class     Images  Instances          P          R      mAP50   mAP50-95: 100%|██████████| 41/41 [00:19<00:00,  2.14it/s]\n",
            "                   all        484      58276      0.979      0.927      0.955       0.72\n",
            "\n",
            "      Epoch    GPU_mem   box_loss   obj_loss   cls_loss  Instances       Size\n",
            "      10/19      13.4G    0.05888     0.1314    0.01036        122        544: 100%|██████████| 292/292 [04:43<00:00,  1.03it/s]\n",
            "                 Class     Images  Instances          P          R      mAP50   mAP50-95: 100%|██████████| 41/41 [00:19<00:00,  2.09it/s]\n",
            "                   all        484      58276      0.986       0.94      0.962      0.747\n",
            "\n",
            "      Epoch    GPU_mem   box_loss   obj_loss   cls_loss  Instances       Size\n",
            "      11/19      13.4G    0.05914     0.1352    0.01015        874        928: 100%|██████████| 292/292 [04:37<00:00,  1.05it/s]\n",
            "                 Class     Images  Instances          P          R      mAP50   mAP50-95: 100%|██████████| 41/41 [00:18<00:00,  2.17it/s]\n",
            "                   all        484      58276      0.976      0.944       0.96      0.732\n",
            "\n",
            "      Epoch    GPU_mem   box_loss   obj_loss   cls_loss  Instances       Size\n",
            "      12/19      13.4G    0.05737     0.1329   0.009609         38        320: 100%|██████████| 292/292 [04:43<00:00,  1.03it/s]\n",
            "                 Class     Images  Instances          P          R      mAP50   mAP50-95: 100%|██████████| 41/41 [00:18<00:00,  2.16it/s]\n",
            "                   all        484      58276      0.983      0.945      0.962      0.732\n",
            "\n",
            "      Epoch    GPU_mem   box_loss   obj_loss   cls_loss  Instances       Size\n",
            "      13/19      13.4G    0.05733     0.1295   0.009723        733        800: 100%|██████████| 292/292 [04:40<00:00,  1.04it/s]\n",
            "                 Class     Images  Instances          P          R      mAP50   mAP50-95: 100%|██████████| 41/41 [00:18<00:00,  2.19it/s]\n",
            "                   all        484      58276      0.984      0.945      0.963      0.745\n",
            "\n",
            "      Epoch    GPU_mem   box_loss   obj_loss   cls_loss  Instances       Size\n",
            "      14/19      13.4G    0.05668     0.1303   0.009551        416        704: 100%|██████████| 292/292 [04:41<00:00,  1.04it/s]\n",
            "                 Class     Images  Instances          P          R      mAP50   mAP50-95: 100%|██████████| 41/41 [00:19<00:00,  2.11it/s]\n",
            "                   all        484      58276      0.985      0.945      0.961      0.768\n",
            "\n",
            "      Epoch    GPU_mem   box_loss   obj_loss   cls_loss  Instances       Size\n",
            "      15/19      13.4G    0.05609     0.1285   0.009534         72        320: 100%|██████████| 292/292 [04:37<00:00,  1.05it/s]\n",
            "                 Class     Images  Instances          P          R      mAP50   mAP50-95: 100%|██████████| 41/41 [00:19<00:00,  2.09it/s]\n",
            "                   all        484      58276      0.987      0.944      0.963      0.773\n",
            "\n",
            "      Epoch    GPU_mem   box_loss   obj_loss   cls_loss  Instances       Size\n",
            "      16/19      13.4G     0.0563     0.1239   0.009547         54        544: 100%|██████████| 292/292 [04:41<00:00,  1.04it/s]\n",
            "                 Class     Images  Instances          P          R      mAP50   mAP50-95: 100%|██████████| 41/41 [00:19<00:00,  2.10it/s]\n",
            "                   all        484      58276      0.985      0.944      0.962      0.777\n",
            "\n",
            "      Epoch    GPU_mem   box_loss   obj_loss   cls_loss  Instances       Size\n",
            "      17/19      13.4G    0.05617     0.1256    0.00927        421        608: 100%|██████████| 292/292 [04:40<00:00,  1.04it/s]\n",
            "                 Class     Images  Instances          P          R      mAP50   mAP50-95: 100%|██████████| 41/41 [00:20<00:00,  2.04it/s]\n",
            "                   all        484      58276      0.987      0.947      0.964      0.768\n",
            "\n",
            "      Epoch    GPU_mem   box_loss   obj_loss   cls_loss  Instances       Size\n",
            "      18/19      13.4G    0.05459     0.1214   0.009133        802        576: 100%|██████████| 292/292 [04:42<00:00,  1.03it/s]\n",
            "                 Class     Images  Instances          P          R      mAP50   mAP50-95: 100%|██████████| 41/41 [00:19<00:00,  2.08it/s]\n",
            "                   all        484      58276      0.983      0.946      0.962      0.782\n",
            "\n",
            "      Epoch    GPU_mem   box_loss   obj_loss   cls_loss  Instances       Size\n",
            "      19/19      13.4G    0.05421     0.1315   0.008968        431        608: 100%|██████████| 292/292 [04:47<00:00,  1.01it/s]\n",
            "                 Class     Images  Instances          P          R      mAP50   mAP50-95: 100%|██████████| 41/41 [00:18<00:00,  2.16it/s]\n",
            "                   all        484      58276      0.988      0.943      0.964      0.787\n",
            "\n",
            "20 epochs completed in 1.773 hours.\n",
            "Optimizer stripped from runs/train/AdamW wd 5e-3 + scheduler/weights/last.pt, 173.1MB\n",
            "Optimizer stripped from runs/train/AdamW wd 5e-3 + scheduler/weights/best.pt, 173.1MB\n",
            "\n",
            "Validating runs/train/AdamW wd 5e-3 + scheduler/weights/best.pt...\n",
            "Fusing layers... \n",
            "Model summary: 322 layers, 86180143 parameters, 0 gradients, 203.8 GFLOPs\n",
            "                 Class     Images  Instances          P          R      mAP50   mAP50-95:  10%|▉         | 4/41 [00:31<05:37,  9.13s/it]WARNING ⚠️ NMS time limit 1.100s exceeded\n",
            "                 Class     Images  Instances          P          R      mAP50   mAP50-95: 100%|██████████| 41/41 [01:42<00:00,  2.49s/it]\n",
            "                   all        484      58276      0.988      0.928      0.952      0.778\n",
            " cage_wheel_track_down        484      29231      0.988      0.898      0.932      0.724\n",
            "   cage_wheel_track_up        484      29045      0.989      0.957      0.972      0.832\n",
            "Results saved to \u001b[1mruns/train/AdamW wd 5e-3 + scheduler\u001b[0m\n",
            "\u001b[1;38;5;39mCOMET INFO:\u001b[0m ---------------------------------------------------------------------------------------\n",
            "\u001b[1;38;5;39mCOMET INFO:\u001b[0m Comet.ml Experiment Summary\n",
            "\u001b[1;38;5;39mCOMET INFO:\u001b[0m ---------------------------------------------------------------------------------------\n",
            "\u001b[1;38;5;39mCOMET INFO:\u001b[0m   Data:\n",
            "\u001b[1;38;5;39mCOMET INFO:\u001b[0m     display_summary_level : 1\n",
            "\u001b[1;38;5;39mCOMET INFO:\u001b[0m     url                   : \u001b[38;5;39mhttps://www.comet.com/silfaradila/object-countings/20bfde12d1bd46538d8de49baee8ce42\u001b[0m\n",
            "\u001b[1;38;5;39mCOMET INFO:\u001b[0m   Metrics [count] (min, max):\n",
            "\u001b[1;38;5;39mCOMET INFO:\u001b[0m     loss [582]                : (0.3428349792957306, 4.451328754425049)\n",
            "\u001b[1;38;5;39mCOMET INFO:\u001b[0m     metrics/mAP_0.5 [40]      : (0.7167424126204347, 0.9640874143111351)\n",
            "\u001b[1;38;5;39mCOMET INFO:\u001b[0m     metrics/mAP_0.5:0.95 [40] : (0.36424238685902366, 0.7872545375921465)\n",
            "\u001b[1;38;5;39mCOMET INFO:\u001b[0m     metrics/precision [40]    : (0.6539524378237245, 0.9882413104099024)\n",
            "\u001b[1;38;5;39mCOMET INFO:\u001b[0m     metrics/recall [40]       : (0.7481423468679821, 0.9466310818448971)\n",
            "\u001b[1;38;5;39mCOMET INFO:\u001b[0m     train/box_loss [40]       : (0.05420545116066933, 0.08421506732702255)\n",
            "\u001b[1;38;5;39mCOMET INFO:\u001b[0m     train/cls_loss [40]       : (0.008968383073806763, 0.014131286181509495)\n",
            "\u001b[1;38;5;39mCOMET INFO:\u001b[0m     train/obj_loss [40]       : (0.12144047021865845, 0.17230656743049622)\n",
            "\u001b[1;38;5;39mCOMET INFO:\u001b[0m     val/box_loss [40]         : (0.03584345057606697, 0.06105535849928856)\n",
            "\u001b[1;38;5;39mCOMET INFO:\u001b[0m     val/cls_loss [40]         : (0.006610335316509008, 0.013359888456761837)\n",
            "\u001b[1;38;5;39mCOMET INFO:\u001b[0m     val/obj_loss [40]         : (0.1585647314786911, 0.23125287890434265)\n",
            "\u001b[1;38;5;39mCOMET INFO:\u001b[0m     x/lr0 [40]                : (0.00012202456766718084, 0.06711301369863014)\n",
            "\u001b[1;38;5;39mCOMET INFO:\u001b[0m     x/lr1 [40]                : (0.00012202456766718084, 0.0009768590220219369)\n",
            "\u001b[1;38;5;39mCOMET INFO:\u001b[0m     x/lr2 [40]                : (0.00012202456766718084, 0.0009768590220219369)\n",
            "\u001b[1;38;5;39mCOMET INFO:\u001b[0m   Others:\n",
            "\u001b[1;38;5;39mCOMET INFO:\u001b[0m     Name                        : AdamW wd 5e-3 + scheduler\n",
            "\u001b[1;38;5;39mCOMET INFO:\u001b[0m     Run Path                    : silfaradila/object-countings/20bfde12d1bd46538d8de49baee8ce42\n",
            "\u001b[1;38;5;39mCOMET INFO:\u001b[0m     comet_log_batch_metrics     : False\n",
            "\u001b[1;38;5;39mCOMET INFO:\u001b[0m     comet_log_confusion_matrix  : True\n",
            "\u001b[1;38;5;39mCOMET INFO:\u001b[0m     comet_log_per_class_metrics : False\n",
            "\u001b[1;38;5;39mCOMET INFO:\u001b[0m     comet_max_image_uploads     : 100\n",
            "\u001b[1;38;5;39mCOMET INFO:\u001b[0m     comet_mode                  : online\n",
            "\u001b[1;38;5;39mCOMET INFO:\u001b[0m     comet_model_name            : yolov5\n",
            "\u001b[1;38;5;39mCOMET INFO:\u001b[0m     hasNestedParams             : True\n",
            "\u001b[1;38;5;39mCOMET INFO:\u001b[0m   Parameters:\n",
            "\u001b[1;38;5;39mCOMET INFO:\u001b[0m     anchor_t            : 4.0\n",
            "\u001b[1;38;5;39mCOMET INFO:\u001b[0m     artifact_alias      : latest\n",
            "\u001b[1;38;5;39mCOMET INFO:\u001b[0m     batch_size          : 6\n",
            "\u001b[1;38;5;39mCOMET INFO:\u001b[0m     bbox_interval       : -1\n",
            "\u001b[1;38;5;39mCOMET INFO:\u001b[0m     box                 : 0.05\n",
            "\u001b[1;38;5;39mCOMET INFO:\u001b[0m     bucket              : \n",
            "\u001b[1;38;5;39mCOMET INFO:\u001b[0m     cfg                 : \n",
            "\u001b[1;38;5;39mCOMET INFO:\u001b[0m     cls                 : 0.0075000000000000015\n",
            "\u001b[1;38;5;39mCOMET INFO:\u001b[0m     cls_pw              : 1.0\n",
            "\u001b[1;38;5;39mCOMET INFO:\u001b[0m     copy_paste          : 0.1\n",
            "\u001b[1;38;5;39mCOMET INFO:\u001b[0m     cos_lr              : True\n",
            "\u001b[1;38;5;39mCOMET INFO:\u001b[0m     degrees             : 0.0\n",
            "\u001b[1;38;5;39mCOMET INFO:\u001b[0m     device              : \n",
            "\u001b[1;38;5;39mCOMET INFO:\u001b[0m     entity              : None\n",
            "\u001b[1;38;5;39mCOMET INFO:\u001b[0m     evolve              : None\n",
            "\u001b[1;38;5;39mCOMET INFO:\u001b[0m     exist_ok            : False\n",
            "\u001b[1;38;5;39mCOMET INFO:\u001b[0m     fl_gamma            : 0.0\n",
            "\u001b[1;38;5;39mCOMET INFO:\u001b[0m     fliplr              : 0.5\n",
            "\u001b[1;38;5;39mCOMET INFO:\u001b[0m     flipud              : 0.0\n",
            "\u001b[1;38;5;39mCOMET INFO:\u001b[0m     freeze              : [0]\n",
            "\u001b[1;38;5;39mCOMET INFO:\u001b[0m     hsv_h               : 0.015\n",
            "\u001b[1;38;5;39mCOMET INFO:\u001b[0m     hsv_s               : 0.7\n",
            "\u001b[1;38;5;39mCOMET INFO:\u001b[0m     hsv_v               : 0.4\n",
            "\u001b[1;38;5;39mCOMET INFO:\u001b[0m     hyp|anchor_t        : 4.0\n",
            "\u001b[1;38;5;39mCOMET INFO:\u001b[0m     hyp|box             : 0.05\n",
            "\u001b[1;38;5;39mCOMET INFO:\u001b[0m     hyp|cls             : 0.3\n",
            "\u001b[1;38;5;39mCOMET INFO:\u001b[0m     hyp|cls_pw          : 1.0\n",
            "\u001b[1;38;5;39mCOMET INFO:\u001b[0m     hyp|copy_paste      : 0.1\n",
            "\u001b[1;38;5;39mCOMET INFO:\u001b[0m     hyp|degrees         : 0.0\n",
            "\u001b[1;38;5;39mCOMET INFO:\u001b[0m     hyp|fl_gamma        : 0.0\n",
            "\u001b[1;38;5;39mCOMET INFO:\u001b[0m     hyp|fliplr          : 0.5\n",
            "\u001b[1;38;5;39mCOMET INFO:\u001b[0m     hyp|flipud          : 0.0\n",
            "\u001b[1;38;5;39mCOMET INFO:\u001b[0m     hyp|hsv_h           : 0.015\n",
            "\u001b[1;38;5;39mCOMET INFO:\u001b[0m     hyp|hsv_s           : 0.7\n",
            "\u001b[1;38;5;39mCOMET INFO:\u001b[0m     hyp|hsv_v           : 0.4\n",
            "\u001b[1;38;5;39mCOMET INFO:\u001b[0m     hyp|iou_t           : 0.2\n",
            "\u001b[1;38;5;39mCOMET INFO:\u001b[0m     hyp|lr0             : 0.001\n",
            "\u001b[1;38;5;39mCOMET INFO:\u001b[0m     hyp|lrf             : 0.1\n",
            "\u001b[1;38;5;39mCOMET INFO:\u001b[0m     hyp|mixup           : 0.1\n",
            "\u001b[1;38;5;39mCOMET INFO:\u001b[0m     hyp|momentum        : 0.937\n",
            "\u001b[1;38;5;39mCOMET INFO:\u001b[0m     hyp|mosaic          : 1.0\n",
            "\u001b[1;38;5;39mCOMET INFO:\u001b[0m     hyp|obj             : 0.7\n",
            "\u001b[1;38;5;39mCOMET INFO:\u001b[0m     hyp|obj_pw          : 1.0\n",
            "\u001b[1;38;5;39mCOMET INFO:\u001b[0m     hyp|perspective     : 0.0\n",
            "\u001b[1;38;5;39mCOMET INFO:\u001b[0m     hyp|scale           : 0.9\n",
            "\u001b[1;38;5;39mCOMET INFO:\u001b[0m     hyp|shear           : 0.0\n",
            "\u001b[1;38;5;39mCOMET INFO:\u001b[0m     hyp|translate       : 0.1\n",
            "\u001b[1;38;5;39mCOMET INFO:\u001b[0m     hyp|warmup_bias_lr  : 0.1\n",
            "\u001b[1;38;5;39mCOMET INFO:\u001b[0m     hyp|warmup_epochs   : 3.0\n",
            "\u001b[1;38;5;39mCOMET INFO:\u001b[0m     hyp|warmup_momentum : 0.8\n",
            "\u001b[1;38;5;39mCOMET INFO:\u001b[0m     hyp|weight_decay    : 0.005\n",
            "\u001b[1;38;5;39mCOMET INFO:\u001b[0m     image_weights       : False\n",
            "\u001b[1;38;5;39mCOMET INFO:\u001b[0m     imgsz               : 640\n",
            "\u001b[1;38;5;39mCOMET INFO:\u001b[0m     iou_t               : 0.2\n",
            "\u001b[1;38;5;39mCOMET INFO:\u001b[0m     label_smoothing     : 0.0\n",
            "\u001b[1;38;5;39mCOMET INFO:\u001b[0m     local_rank          : -1\n",
            "\u001b[1;38;5;39mCOMET INFO:\u001b[0m     lr0                 : 0.001\n",
            "\u001b[1;38;5;39mCOMET INFO:\u001b[0m     lrf                 : 0.1\n",
            "\u001b[1;38;5;39mCOMET INFO:\u001b[0m     mixup               : 0.1\n",
            "\u001b[1;38;5;39mCOMET INFO:\u001b[0m     momentum            : 0.937\n",
            "\u001b[1;38;5;39mCOMET INFO:\u001b[0m     mosaic              : 1.0\n",
            "\u001b[1;38;5;39mCOMET INFO:\u001b[0m     multi_scale         : True\n",
            "\u001b[1;38;5;39mCOMET INFO:\u001b[0m     noautoanchor        : False\n",
            "\u001b[1;38;5;39mCOMET INFO:\u001b[0m     noplots             : False\n",
            "\u001b[1;38;5;39mCOMET INFO:\u001b[0m     nosave              : False\n",
            "\u001b[1;38;5;39mCOMET INFO:\u001b[0m     noval               : False\n",
            "\u001b[1;38;5;39mCOMET INFO:\u001b[0m     obj                 : 0.7\n",
            "\u001b[1;38;5;39mCOMET INFO:\u001b[0m     obj_pw              : 1.0\n",
            "\u001b[1;38;5;39mCOMET INFO:\u001b[0m     patience            : 100\n",
            "\u001b[1;38;5;39mCOMET INFO:\u001b[0m     perspective         : 0.0\n",
            "\u001b[1;38;5;39mCOMET INFO:\u001b[0m     project             : runs/train\n",
            "\u001b[1;38;5;39mCOMET INFO:\u001b[0m     quad                : False\n",
            "\u001b[1;38;5;39mCOMET INFO:\u001b[0m     rect                : False\n",
            "\u001b[1;38;5;39mCOMET INFO:\u001b[0m     resume              : False\n",
            "\u001b[1;38;5;39mCOMET INFO:\u001b[0m     save_dir            : runs/train/AdamW wd 5e-3 + scheduler\n",
            "\u001b[1;38;5;39mCOMET INFO:\u001b[0m     save_period         : -1\n",
            "\u001b[1;38;5;39mCOMET INFO:\u001b[0m     scale               : 0.9\n",
            "\u001b[1;38;5;39mCOMET INFO:\u001b[0m     seed                : 0\n",
            "\u001b[1;38;5;39mCOMET INFO:\u001b[0m     shear               : 0.0\n",
            "\u001b[1;38;5;39mCOMET INFO:\u001b[0m     single_cls          : False\n",
            "\u001b[1;38;5;39mCOMET INFO:\u001b[0m     sync_bn             : False\n",
            "\u001b[1;38;5;39mCOMET INFO:\u001b[0m     translate           : 0.1\n",
            "\u001b[1;38;5;39mCOMET INFO:\u001b[0m     upload_dataset      : False\n",
            "\u001b[1;38;5;39mCOMET INFO:\u001b[0m     val_conf_threshold  : 0.001\n",
            "\u001b[1;38;5;39mCOMET INFO:\u001b[0m     val_iou_threshold   : 0.6\n",
            "\u001b[1;38;5;39mCOMET INFO:\u001b[0m     warmup_bias_lr      : 0.1\n",
            "\u001b[1;38;5;39mCOMET INFO:\u001b[0m     warmup_epochs       : 3.0\n",
            "\u001b[1;38;5;39mCOMET INFO:\u001b[0m     warmup_momentum     : 0.8\n",
            "\u001b[1;38;5;39mCOMET INFO:\u001b[0m     weight_decay        : 0.00515625\n",
            "\u001b[1;38;5;39mCOMET INFO:\u001b[0m     workers             : 8\n",
            "\u001b[1;38;5;39mCOMET INFO:\u001b[0m   Uploads:\n",
            "\u001b[1;38;5;39mCOMET INFO:\u001b[0m     asset               : 13 (1.28 MB)\n",
            "\u001b[1;38;5;39mCOMET INFO:\u001b[0m     confusion-matrix    : 1\n",
            "\u001b[1;38;5;39mCOMET INFO:\u001b[0m     environment details : 1\n",
            "\u001b[1;38;5;39mCOMET INFO:\u001b[0m     git metadata        : 1\n",
            "\u001b[1;38;5;39mCOMET INFO:\u001b[0m     images              : 100\n",
            "\u001b[1;38;5;39mCOMET INFO:\u001b[0m     installed packages  : 1\n",
            "\u001b[1;38;5;39mCOMET INFO:\u001b[0m     model graph         : 1\n",
            "\u001b[1;38;5;39mCOMET INFO:\u001b[0m     os packages         : 1\n",
            "\u001b[1;38;5;39mCOMET INFO:\u001b[0m \n",
            "\u001b[36m──────────────────────────────────────── \u001b[0m\u001b[1;36mNew Comet feature!\u001b[0m\u001b[36m ────────────────────────────────────────\u001b[0m\n",
            "Log your models to better track, deploy, share, and reproduce your work using: 'comet_ml.integration.pytorch.log_model'.\n",
            "Learn more at: https://comet.com/docs/v2/pytorch_log_model\n",
            "\n",
            "Hide this message by setting environment variable \"COMET_DISABLE_ANNOUNCEMENT=1\" \n",
            "\u001b[36m────────────────────────────────────────────────────────────────────────────────────────────────────\u001b[0m\n"
          ]
        }
      ],
      "source": [
        "!chmod +w /content/yolov5/countings/train/labels\n",
        "#%%time\n",
        "%cd /content/yolov5/\n",
        "!python train.py \\\n",
        "--img 640 \\\n",
        "--batch 6 \\\n",
        "--epochs 20 \\\n",
        "--data '/content/yolov5/countings/data.yaml' \\\n",
        "--hyp 'data/hyps/hyp.scratch-high.yaml' \\\n",
        "--name 'AdamW wd 5e-3 + scheduler' \\\n",
        "--optimizer 'AdamW' \\\n",
        "--weights 'yolov5x.pt' \\\n",
        "--multi-scale \\\n",
        "--cos-lr \\\n",
        "--cache"
      ]
    },
    {
      "cell_type": "markdown",
      "metadata": {
        "id": "K8eXQlCHe_U9"
      },
      "source": [
        "# Validation Script\n"
      ]
    },
    {
      "cell_type": "code",
      "execution_count": null,
      "metadata": {
        "colab": {
          "base_uri": "https://localhost:8080/"
        },
        "id": "usNIjKlDdjV_",
        "outputId": "e6d9d393-4472-4992-ba72-5c4e805fb5f3"
      },
      "outputs": [
        {
          "name": "stdout",
          "output_type": "stream",
          "text": [
            "\u001b[34m\u001b[1mval: \u001b[0mdata=/content/yolov5/countings/data.yaml, weights=['/content/yolov5/runs/train/AdamW wd 5e-3 + scheduler/weights/best.pt'], batch_size=32, imgsz=640, conf_thres=0.001, iou_thres=0.6, max_det=300, task=val, device=, workers=8, single_cls=False, augment=False, verbose=False, save_txt=False, save_hybrid=False, save_conf=False, save_json=False, project=runs/val, name=exp, exist_ok=False, half=True, dnn=False\n",
            "YOLOv5 🚀 v7.0-240-g84ec8b5 Python-3.10.12 torch-2.1.0+cu118 CUDA:0 (Tesla T4, 15102MiB)\n",
            "\n",
            "Fusing layers... \n",
            "Model summary: 322 layers, 86180143 parameters, 0 gradients, 203.8 GFLOPs\n",
            "\u001b[34m\u001b[1mval: \u001b[0mScanning /content/yolov5/countings/valid/labels.cache... 484 images, 11 backgrounds, 0 corrupt: 100% 484/484 [00:00<?, ?it/s]\n",
            "                 Class     Images  Instances          P          R      mAP50   mAP50-95: 100% 16/16 [01:49<00:00,  6.86s/it]\n",
            "                   all        484      58276      0.988      0.943      0.964      0.787\n",
            " cage_wheel_track_down        484      29231      0.988      0.913      0.944      0.733\n",
            "   cage_wheel_track_up        484      29045      0.989      0.973      0.984      0.841\n",
            "Speed: 0.2ms pre-process, 22.7ms inference, 10.2ms NMS per image at shape (32, 3, 640, 640)\n",
            "Results saved to \u001b[1mruns/val/exp\u001b[0m\n"
          ]
        }
      ],
      "source": [
        "!python val.py --weights '/content/yolov5/runs/train/AdamW wd 5e-3 + scheduler/weights/best.pt'   --data '/content/yolov5/countings/data.yaml' --img 640 --half"
      ]
    },
    {
      "cell_type": "markdown",
      "metadata": {
        "id": "zc5c-D6wfbyY"
      },
      "source": [
        "# Save Model\n"
      ]
    },
    {
      "cell_type": "code",
      "execution_count": null,
      "metadata": {
        "colab": {
          "base_uri": "https://localhost:8080/"
        },
        "id": "o0xLFlX1faIv",
        "outputId": "93b91ab9-2a5e-41ef-c85d-f857205d052b"
      },
      "outputs": [
        {
          "name": "stdout",
          "output_type": "stream",
          "text": [
            "  adding: content/yolov5/runs/ (stored 0%)\n",
            "  adding: content/yolov5/runs/val/ (stored 0%)\n",
            "  adding: content/yolov5/runs/val/exp/ (stored 0%)\n",
            "  adding: content/yolov5/runs/val/exp/F1_curve.png (deflated 12%)\n",
            "  adding: content/yolov5/runs/val/exp/val_batch1_labels.jpg (deflated 5%)\n",
            "  adding: content/yolov5/runs/val/exp/val_batch1_pred.jpg (deflated 4%)\n",
            "  adding: content/yolov5/runs/val/exp/val_batch0_pred.jpg (deflated 4%)\n",
            "  adding: content/yolov5/runs/val/exp/val_batch2_pred.jpg (deflated 4%)\n",
            "  adding: content/yolov5/runs/val/exp/PR_curve.png (deflated 17%)\n",
            "  adding: content/yolov5/runs/val/exp/R_curve.png (deflated 12%)\n",
            "  adding: content/yolov5/runs/val/exp/val_batch2_labels.jpg (deflated 4%)\n",
            "  adding: content/yolov5/runs/val/exp/P_curve.png (deflated 17%)\n",
            "  adding: content/yolov5/runs/val/exp/confusion_matrix.png (deflated 28%)\n",
            "  adding: content/yolov5/runs/val/exp/val_batch0_labels.jpg (deflated 5%)\n",
            "  adding: content/yolov5/runs/train/ (stored 0%)\n",
            "  adding: content/yolov5/runs/train/.ipynb_checkpoints/ (stored 0%)\n",
            "  adding: content/yolov5/runs/train/AdamW wd 5e-3 + scheduler/ (stored 0%)\n",
            "  adding: content/yolov5/runs/train/AdamW wd 5e-3 + scheduler/F1_curve.png (deflated 12%)\n",
            "  adding: content/yolov5/runs/train/AdamW wd 5e-3 + scheduler/val_batch1_labels.jpg (deflated 5%)\n",
            "  adding: content/yolov5/runs/train/AdamW wd 5e-3 + scheduler/val_batch1_pred.jpg (deflated 4%)\n",
            "  adding: content/yolov5/runs/train/AdamW wd 5e-3 + scheduler/val_batch0_pred.jpg (deflated 4%)\n",
            "  adding: content/yolov5/runs/train/AdamW wd 5e-3 + scheduler/val_batch2_pred.jpg (deflated 6%)\n",
            "  adding: content/yolov5/runs/train/AdamW wd 5e-3 + scheduler/events.out.tfevents.1700013012.84ef50b750ed.9937.0 (deflated 48%)\n",
            "  adding: content/yolov5/runs/train/AdamW wd 5e-3 + scheduler/opt.yaml (deflated 49%)\n",
            "  adding: content/yolov5/runs/train/AdamW wd 5e-3 + scheduler/results.csv (deflated 82%)\n",
            "  adding: content/yolov5/runs/train/AdamW wd 5e-3 + scheduler/train_batch2.jpg (deflated 9%)\n",
            "  adding: content/yolov5/runs/train/AdamW wd 5e-3 + scheduler/weights/ (stored 0%)\n",
            "  adding: content/yolov5/runs/train/AdamW wd 5e-3 + scheduler/weights/best.pt (deflated 8%)\n",
            "  adding: content/yolov5/runs/train/AdamW wd 5e-3 + scheduler/weights/last.pt (deflated 8%)\n",
            "  adding: content/yolov5/runs/train/AdamW wd 5e-3 + scheduler/PR_curve.png (deflated 18%)\n",
            "  adding: content/yolov5/runs/train/AdamW wd 5e-3 + scheduler/train_batch1.jpg (deflated 7%)\n",
            "  adding: content/yolov5/runs/train/AdamW wd 5e-3 + scheduler/labels.jpg (deflated 28%)\n",
            "  adding: content/yolov5/runs/train/AdamW wd 5e-3 + scheduler/hyp.yaml (deflated 44%)\n",
            "  adding: content/yolov5/runs/train/AdamW wd 5e-3 + scheduler/R_curve.png (deflated 13%)\n",
            "  adding: content/yolov5/runs/train/AdamW wd 5e-3 + scheduler/labels_correlogram.jpg (deflated 25%)\n",
            "  adding: content/yolov5/runs/train/AdamW wd 5e-3 + scheduler/val_batch2_labels.jpg (deflated 6%)\n",
            "  adding: content/yolov5/runs/train/AdamW wd 5e-3 + scheduler/results.png (deflated 8%)\n",
            "  adding: content/yolov5/runs/train/AdamW wd 5e-3 + scheduler/P_curve.png (deflated 17%)\n",
            "  adding: content/yolov5/runs/train/AdamW wd 5e-3 + scheduler/confusion_matrix.png (deflated 28%)\n",
            "  adding: content/yolov5/runs/train/AdamW wd 5e-3 + scheduler/train_batch0.jpg (deflated 9%)\n",
            "  adding: content/yolov5/runs/train/AdamW wd 5e-3 + scheduler/val_batch0_labels.jpg (deflated 5%)\n"
          ]
        }
      ],
      "source": [
        "!zip -r /content/adam_5e-3_scheduler.zip /content/yolov5/runs"
      ]
    },
    {
      "cell_type": "code",
      "execution_count": null,
      "metadata": {
        "colab": {
          "base_uri": "https://localhost:8080/"
        },
        "id": "Cm3gP1VOfhdn",
        "outputId": "8925e74f-07e5-4adc-e2ee-6c50fe383ef4"
      },
      "outputs": [
        {
          "name": "stdout",
          "output_type": "stream",
          "text": [
            "Mounted at /content/drive\n"
          ]
        }
      ],
      "source": [
        "from google.colab import drive\n",
        "drive.mount('/content/drive')"
      ]
    },
    {
      "cell_type": "code",
      "execution_count": null,
      "metadata": {
        "id": "0kezbwTwxStO"
      },
      "outputs": [],
      "source": [
        "from google.colab import files\n",
        "files.download(\"/content/adam_lr0.01.zip\")"
      ]
    },
    {
      "cell_type": "markdown",
      "metadata": {
        "id": "y9F-QJ9lop2a"
      },
      "source": [
        "# Detect"
      ]
    },
    {
      "cell_type": "code",
      "execution_count": null,
      "metadata": {
        "colab": {
          "base_uri": "https://localhost:8080/"
        },
        "id": "fSgwhmJyopEE",
        "outputId": "b649a8cb-aba2-4e65-dee1-de3fd80d4907"
      },
      "outputs": [
        {
          "name": "stdout",
          "output_type": "stream",
          "text": [
            "/content/yolov5\n",
            "\u001b[34m\u001b[1mdetect: \u001b[0mweights=['/content/drive/MyDrive/000. Silfaradila/best.pt'], source=/content/drive/MyDrive/test, data=data/coco128.yaml, imgsz=[640, 640], conf_thres=0.5, iou_thres=0.45, max_det=1000, device=, view_img=False, save_txt=False, save_csv=False, save_conf=False, save_crop=False, nosave=False, classes=None, agnostic_nms=False, augment=False, visualize=False, update=False, project=runs/detect, name=exp, exist_ok=False, line_thickness=2, hide_labels=True, hide_conf=False, half=False, dnn=False, vid_stride=1\n",
            "YOLOv5 🚀 v7.0-240-g84ec8b5 Python-3.10.12 torch-2.1.1+cu121 CUDA:0 (Tesla T4, 15102MiB)\n",
            "\n",
            "Fusing layers... \n",
            "Model summary: 322 layers, 86180143 parameters, 0 gradients, 203.8 GFLOPs\n",
            "image 1/10 /content/drive/MyDrive/test/1.jpg: 640x480 159 cage_wheel_track_downs, 160 cage_wheel_track_ups, 65.5ms\n",
            "image 2/10 /content/drive/MyDrive/test/10.jpg: 640x480 158 cage_wheel_track_downs, 160 cage_wheel_track_ups, 58.1ms\n",
            "image 3/10 /content/drive/MyDrive/test/2.jpg: 640x480 158 cage_wheel_track_downs, 159 cage_wheel_track_ups, 58.1ms\n",
            "image 4/10 /content/drive/MyDrive/test/3.jpg: 640x480 158 cage_wheel_track_downs, 161 cage_wheel_track_ups, 68.1ms\n",
            "image 5/10 /content/drive/MyDrive/test/4.jpg: 640x480 158 cage_wheel_track_downs, 162 cage_wheel_track_ups, 68.0ms\n",
            "image 6/10 /content/drive/MyDrive/test/5.jpg: 640x480 155 cage_wheel_track_downs, 158 cage_wheel_track_ups, 68.0ms\n",
            "image 7/10 /content/drive/MyDrive/test/6.jpg: 640x480 157 cage_wheel_track_downs, 154 cage_wheel_track_ups, 68.0ms\n",
            "image 8/10 /content/drive/MyDrive/test/7.jpg: 640x480 154 cage_wheel_track_downs, 157 cage_wheel_track_ups, 68.1ms\n",
            "image 9/10 /content/drive/MyDrive/test/8.jpg: 640x480 159 cage_wheel_track_downs, 158 cage_wheel_track_ups, 68.1ms\n",
            "image 10/10 /content/drive/MyDrive/test/9.jpg: 640x480 158 cage_wheel_track_downs, 161 cage_wheel_track_ups, 68.1ms\n",
            "Speed: 0.6ms pre-process, 65.8ms inference, 2.1ms NMS per image at shape (1, 3, 640, 640)\n",
            "Results saved to \u001b[1mruns/detect/exp4\u001b[0m\n"
          ]
        }
      ],
      "source": [
        "%cd /content/yolov5/\n",
        "!python detect.py --weights '/content/drive/MyDrive/000. Silfaradila/best.pt' --img 640 --conf 0.5 --source /content/drive/MyDrive/test --hide-labels --line-thickness 2"
      ]
    },
    {
      "cell_type": "code",
      "execution_count": null,
      "metadata": {
        "id": "MDqpexFgzsku"
      },
      "outputs": [],
      "source": []
    }
  ],
  "metadata": {
    "accelerator": "GPU",
    "colab": {
      "provenance": [],
      "toc_visible": true
    },
    "kernelspec": {
      "display_name": "Python 3",
      "name": "python3"
    },
    "language_info": {
      "name": "python"
    }
  },
  "nbformat": 4,
  "nbformat_minor": 0
}
